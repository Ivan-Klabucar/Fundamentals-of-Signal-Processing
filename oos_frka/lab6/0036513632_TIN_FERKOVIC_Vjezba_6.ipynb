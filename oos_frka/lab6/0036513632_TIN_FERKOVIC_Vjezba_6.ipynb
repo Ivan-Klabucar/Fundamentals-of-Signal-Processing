{
  "cells": [
    {
      "cell_type": "markdown",
      "metadata": {
        "id": "17gpYVH0HG2r"
      },
      "source": [
        "Sveučilište u Zagrebu<br/>\n",
        "Fakultet elektrotehnike i računarstva<br/>\n",
        "Zavod za elektroničke sustave i obradbu informacija\n",
        "\n",
        "Akademska školska godina 2022./2023.\n",
        "\n",
        "**6. vježba: Brza Fourierova transformacija**\n",
        "\n",
        "*Osnove obradbe signala* (183447, 223374)\n",
        "\n",
        "Autor: Tomislav Petković\n",
        "\n",
        "Prijevod s engleskog jezika: Domagoj Zoraja\n",
        "\n",
        "Datum: 2022-10-05\n",
        "\n",
        "Molimo vas da komentare na ove upute (ispravke, primjedbe, prijedloge itd.) šaljete e-poštom na tomislav.petkovic.jr@fer.hr."
      ]
    },
    {
      "cell_type": "markdown",
      "metadata": {
        "id": "kGS9gdue90mF"
      },
      "source": [
        "© Sveučilište u Zagrebu Fakultet elektrotehnike i računarstva, 2022.\n",
        "\n",
        "Umnažanje i distribucija ovih uputa je dozvoljena samo ako svaka kopija sadrži gorenavedenu informaciju o autorskim pravima te ovu dozvolu o umnažanju."
      ]
    },
    {
      "cell_type": "markdown",
      "metadata": {
        "id": "nbp4R_gNpLKV"
      },
      "source": [
        "# Uvod\n",
        "\n",
        "Upute za šestu laboratorijsku vježbu iz predmeta *Osnove obradbe signala* su pripremljene u obliku <a href=\"https://jupyter.org/\">Jupyterske</a> bilježnice.\n",
        "\n",
        "Jupyterska bilježnica koristi <a href=\"https://ipython.org/\">IPython</a> koji je interaktivni interpreter za Pyhton. Jupytersku bilježnicu možete pokrenuti lokalno, no isto tako je možete pokrenuti udaljeno na Googleovom Colaboratoryu.\n",
        "\n",
        "Svi zadaci u ovoj bilježnici su dovoljno jednostavni tako da se mogu riješiti korištenjem <a href=\"https://colab.research.google.com\">Googleovog Colaboratorya</a> (skraćeno Colab).\n",
        "\n",
        "Svaki softver je samo alat. Sukaldno tome, osim Pythona slobodno smijete koristiti i druge alate kao što su <a href=\"https://www.mathworks.com/products/matlab.html\">Matlab</a>, <a href=\"https://www.gnu.org/software/octave/index\">GNU Octave</a> i <a href=\"https://www.scilab.org/\">Scilab</a> kako bi riješili zadane zadatke. Napominjemo da korištenje drugih alata može značiti da vaš izvještaj s vježbe ne možete predati popunjavanjem ove bilježnice, odnosno da morate pripremiti novi pisani izvještaj. Dodatno, nastavnici vam mogu pomoći oko izrade vježbe samo ako koristite Colab i/ili Matlab."
      ]
    },
    {
      "cell_type": "markdown",
      "metadata": {
        "id": "WlRpFNuqEqTM"
      },
      "source": [
        "## Upute za predaju izvještaja s vježbe\n",
        "\n",
        "Ako rješavate vježbu u Pythonu korištenjem Colaba onda jednostavn upišite vaše odgovore u prazna polja, i to programski kod u polja za kod te odgovore na postavljena pitanja u tekstualna polja.\n",
        "\n",
        "Prazna polja u koja upisujete programski kod sadrže zadani komentar: `# Upišite vaše rješenje`.\n",
        "\n",
        "Tekstualna polja u koja morate upisati odgovore na postavljena pitanja sadrže masni tekst napisan velikim tiskanim slovima: **UPIŠITE VAŠ ODGOVOR**.\n",
        "\n",
        "Jednom kada su svi zadaci riješeni ispunjenu bilježnicu pohranite u datoteku s imenom `JMBAG_IME_PREZIME_Vjezba_6.ipynb` te tu datoteku predajte pod odgovarajuću zadaću u FER-ovom Moodleu.\n",
        "\n",
        "Predane bilježnice mogu biti automatski re-evaluirane što odgovara naredbi  *Restart and run all* u Colabu. Prema tome, svakako prije predaje vaše bilježnice pokrenite tu naredbu i provjerite ispravnost vaših rješenja.\n",
        "\n",
        "Ako ste vježbu izradili korištenjem nekog drugog softvera koji nije kompatibilan s Jupyterskom bilježnicom onda morate pripremiti standardni pisani izvještaj s laboratorijske vježbe."
      ]
    },
    {
      "attachments": {},
      "cell_type": "markdown",
      "metadata": {
        "id": "B_rW2yC3Eqf8"
      },
      "source": [
        "## Podaci o studentu\n",
        "\n",
        "Molimo vas da prije ispunjavanja ostatka bilježnice dvaput kliknete na ovaj tekst te zatim upište vaše podatke:\n",
        "\n",
        "Ime: **TIN FERKOVIĆ**\n",
        "\n",
        "Matični broj (JMBAG): **0036513632**\n",
        "\n",
        "Također odmah promijenite ime datoteke u `JMBAG_IME_PREZIME.ipynb`."
      ]
    },
    {
      "cell_type": "markdown",
      "metadata": {
        "id": "A_bBYIVb7huY"
      },
      "source": [
        "## Uvoz potrebnih funkcija\n",
        "\n",
        "Radi smanjivanja razlika između programskog koda u Pythonu i u Matlabu u ovoj bilježnici ćemo namjerno uvesti sve potrebne funkcije iz <a href=\"https://www.scipy.org/\">SciPy</a>-ja, <a href=\"https://numpy.org/\">NumPy</a>-ja i <a href=\"https://matplotlib.org/\">Matplotlib</a>-a izravno u globalni imenik tako da možemo jednostavno pisati `fft` umjesto punog imena `scipy.fft.fft`.\n",
        "\n",
        "Svakako imajte u vidu da je ovakav pristup uvjetno prihvatljiv radi pojednostavljenja koda za laboratorijske vježbe jer su rizici kolizije i neočekivanih nuspojava minimalni. **Uvoz funkcija u globalni imenik se ne koristi u produkcijskom kodu.**\n",
        "\n",
        "Ako preferirate korištenje imenika i punih imena funkcija onda slobodno izmijenite naredbe za uvoz funkcija tako da sve uvezene funkcije ostanu strogo razdvojene."
      ]
    },
    {
      "cell_type": "code",
      "execution_count": 1,
      "metadata": {
        "id": "PpDMuZ7on9Nh"
      },
      "outputs": [],
      "source": [
        "# Uvezi potrebne funkcije u globalni imenik\n",
        "from numpy import *\n",
        "from numpy.random import *\n",
        "from matplotlib.pyplot import *\n",
        "from scipy.signal import *\n",
        "from scipy.fft import *"
      ]
    },
    {
      "cell_type": "markdown",
      "metadata": {
        "id": "gxYnHRdLlgFH"
      },
      "source": [
        "# 1. Brza Fourierova transformcija\n",
        "\n",
        "Diskretna Fourierova transormacija u $N$ točaka ili $\\text{DFT}_N$ nekog vremenski diskretnog signala konačnog trajanja jest\n",
        "\n",
        "$$\\text{DFT}_N\\bigl[x[n]\\bigr]=X[k]=\\sum_{n=0}^{N-1} x[n]e^{-2\\pi j{nk\\over N}}=\\sum_{n=0}^{N-1}x[n]W_N^{nk},$$\n",
        "\n",
        "gdje je $X[k]$ spektar signala i gdje je\n",
        "\n",
        "$$W_b^{a}=e^{-2\\pi j {a\\over b}}$$\n",
        "\n",
        "diskretna kompleksna eksponencijala. Inverzna diskretna Fourierova transformacija jest\n",
        "\n",
        "$$\\text{IDFT}_N\\bigl[X[k]\\bigr]=x[n]=\\sum_{k=0}^{N-1} X[k]e^{2\\pi j{nk\\over N}}=\\sum_{n=0}^{N-1}X[k]W_N^{-nk}.$$\n",
        "\n",
        "Računanje diskretne Fourierove transformacije izravno prema definicijskom izrazu je skupo u ukupnom broju numeričkih operacija te ima vremensku složenost $O(N^2)$, odnosno moramo izvršiti točno $N^2$ operacija množenja kompleksnih brojeva i točno $N(N-1)$ operacija zbrajanja kompleksnih brojeva.\n",
        "\n",
        "Kako je diskretna Fourierova transformacija sveprisutna u obradbi signala želimo algoritam koji je može izračnuati efikasnije od složenosti definicijskog izraza $O(N^2)$. Sve takve algoritme koji značajno povećavaju efikasnost računanja diskretne Fourierove transformacije objedinjeno nazivamo algoritmima **brze Fourierove transformacije** ili **FFT** algoritmima, od engl. *fast Fourier transform*."
      ]
    },
    {
      "cell_type": "markdown",
      "metadata": {
        "id": "pPf7N0NNTcWp"
      },
      "source": [
        "## 1.1. Korijen-2 decimacija u vremenu\n",
        "\n",
        "Želimo li povećati efikasnost računanja vremenski diskretne Fourierove transformacije moramo nekako smanjiti broj operacija množenja i zbrajanja. Način smanjenja broja računskih operacija ovisi o broju točaka $N$. U ovoj laboratrijskoj vježbi ćemo razmatrati najjednostavniji slučaj smanjenja broja računskih operacija za kojeg je broj točaka $N$ potencija broja $2$, dakle $N=2^m$, odnosno kažemo da koristimo **korijen ili bazu dva** (engl. *radix-2*). Zatim ćemo primijeniti princip **podijeli pa vladaj** (engl. *divide-and-conquer*) kako bi smanjili ukupan broj operacija množenja i zbrajanja.\n",
        "\n",
        "Glavni korak izvoda svih korijen-2 FFT algoritma jest podjela ulaznog signala $x[n]$ u dva podsignala čije duljine su pola duljine ulaznog signala. \n",
        "\n",
        "Postoje dva načina podijele ulaznog signala za koja dobivamo značajno smanjenje ukupnog broja operacija množenja i zbrajanja. Prvi način jest podjela signala na parno i neparno indeksirane uzorke, kraće parno-neparna podjela, koja daje postupke **decimacije u vremenu** ili skraćeno DIT, od engl. *decimation-in-time*. Drugi način je podjela signala po njegovoj sredini na lijevu i desnu polovicu, kraće raspolavljanje signala, koja daje postupke **decimacije u frekvenciji** ili skraćeno DIF, od engl. *decimation-in-frequecny*. DIT i DIF postupci su međusobno dualni u smislu da parno-neparna podjela u jednoj domeni odgovara raspolavljanju u drugoj domeni, i obrnuto. \n",
        "\n",
        "Kod parno-neparne podjele ulaznog signala $x[n]$, $n=0,\\ldots ,N-1$, duljine $N$ uzoraka, taj signal dijelimo na parno indeksirani dio $x_e[n]=x[2n]$, $n=0,\\ldots ,N/2-1$, duljine $N/2$, i na neparno indeksirani dio $x_o[n]=x[2n+1]$, $n=0,\\ldots ,N-1$, duljine $N/2$.\n",
        "\n",
        "Kod raspolavljanja signala $x[n]$, $n=0,\\ldots ,N-1$, duljine $N$ uzoraka, taj signal raspolavljamo točno po sredini na prvi ili lijevi dio $x_1[n]=x[n]$, $n=0,\\ldots ,N/2-1$, duljine $N/2$, i na drugi ili desni dio $x_2[n]=x[n+N/2]$, $n=0,\\ldots ,N/2-1$, duljine $N/2$.\n",
        "\n",
        "Nakon što smo podijelili signal koristimo poznata svojstva kompleksne eksponencijale radi smanjivanja ukupnog broja računskih operacija. Preciznije, koristimo uobičajena svojstva svake eksponencijalne funkcije,\n",
        "\n",
        "$$W_c^{a+b}=W_c^aW_c^b,$$\n",
        "\n",
        "te dva svojstva diskretne kompleksne eksponencijale od kojih je prvo simetričnost,\n",
        "\n",
        "$$W_{N}^{k+N/2}=e^{-2\\pi j(k+{N\\over2})/N}=e^{-2\\pi jk/N}e^{-j\\pi}=-W_N^k,$$\n",
        "\n",
        "i drugo periodičnost \n",
        "\n",
        "$$W_{N}^{k+N}=e^{-2\\pi j(k+{N})/N}=e^{-2\\pi jk/N}e^{-j2\\pi}=W_N^k.$$\n",
        "\n",
        "Također primijetite da u korištenoj notaciji vrijedi $W_{b}^{a}=W^{a/b}=W_{b/a}$.\n",
        "\n",
        "\n",
        "Pokažimo sada jedan korak rastava za postupak decimacije u vremenu. Vrijedi:\n",
        "\n",
        "\\begin{align}\n",
        "\\text{DFT}_N\\bigl[x[n]\\bigr]=X[k]&=\\sum_{n=0}^{N-1}x[n]W_N^{nk}\\\\\n",
        "&=\\underbrace{\\sum_{n=0}^{N/2-1}x[2n]W_N^{2nk}}_{\\text{parni indeksi}}+\n",
        "\\underbrace{\\sum_{n=0}^{N/2-1}x[2n+1]W_N^{(2n+1)k}}_{\\text{neparni indeksi}}\\\\\n",
        "&=\\sum_{n=0}^{N/2-1}x[2n]W_{N}^{2nk}+\\sum_{n=0}^{N/2-1}x[2n+1]W_{N}^{2nk}W_N^k\\\\\n",
        "&=\\sum_{n=0}^{N/2-1}x[2n]W_{N/2}^{nk}+W_{N}^{k}\\sum_{n=0}^{N/2-1}x[2n+1]W_{N/2}^{nk}\\\\\n",
        "&=\\text{DFT}_{N/2}\\bigl[x[2n]\\bigr]+W_{N}^{k}\\text{DFT}_{N/2}\\bigl[x[2n+1]\\bigr].\n",
        "\\end{align}\n",
        "\n",
        "Jedan korak rastava za decimaciju u frekvenciji je dosta sličan pa ga ovdje preskačemo, no možete ga provesti za vježbu.\n",
        "\n",
        "Dobiveni rastav za decimaciju u vremenu znači da $\\text{DFT}_N$ transformaciju signala $x[n]$ možemo izračunati zbrajanjem $\\text{DFT}_{N/2}$ transformacije parno indeksiranih uzoraka $x[2n]$ i rotirane $\\text{DFT}_{N/2}$ transformacije neparno indeksiranih uzoraka $x[2n+2]$. Napomena: razmislite zašto množenje s kompleksnom eksponencijalom $W_N^k$ nazivamo rotacijom.\n",
        "\n",
        "Opisani korak rastava sada možemo ponovo primijeniti na svaku od dvije $\\text{DFT}_{N/2}$ transformacije. Općenito, rastav ponavljamo sve dok ne dođemo do pojedinačnih uzoraka. Na taj način dobivamo strukturu računanja koja je značajno efikasnija od izravnog računanja.\n",
        "\n",
        "Provednimo sada analizu složenosti. Za spajanje dvije diskretne Fourierove transformacije u pola uzoraka u jednu transformaciju pune duljine $N$ potrebno je barem $N-1$ operacija množenja i točno $N$ operacija zbrajanja kompleksnih brojeva, odnosno složenost spajanja dvije transformacije polovične duljine je određena duljinom dobivene transformacije i iznosi $O(N)$. Slično tome na svakoj razini podjele signala ukupna složenost svih spajanja je uvijek $N$ u broju potrebnih operacija (jer na razini rastava $r$ spajamo $2^r$ transformacija duljine $N/2^r$ u $2^{r-1}$ transformacija duljine $N/2^{r-1}$). Kako smo se ograničili na korijen-2 metodu za koju je $N=2^m$ signal možem dijeliti sve dok ne dođemo do pojedinačnih uzoraka. Prema tome ukupan broj podjela signala je $m=\\log_2N$, odnosno rastav ima $m$ razina, što znači da je ukupna složenost $O(Nm)=O(N\\log_2N)$. "
      ]
    },
    {
      "cell_type": "markdown",
      "metadata": {
        "id": "rP4DqKHKQXjB"
      },
      "source": [
        "## 1.2. Generalizirani FFT algoritmi\n",
        "\n",
        "Najopćenitiji podijeli-pa-vladaj pristup za efikasno računanje diskretne Fourierove transformacije opisali su J. W. Cooley i J. W. Tukey u svom istraživačkom radu [An algorithm for the machine calculation of complex Fourier series](https://doi.org/10.1090/S0025-5718-1965-0178586-1). \n",
        "Decimacija u vremenu i decimacija u frekveniji su posebni slučajevi Cooley-Tukeyevog algoritma.\n",
        "\n",
        "Obratite pažnju na to da se Cooley-Tukeyev algoritam i općenito svi ostali FFT algoritmi koji se temelje na principu podijeli-pa-vladaj mogu primijeniti jedino ako broj točaka $N$ (duljina ulaznog signala) **nije prosti broj**. Drugim riječima rečeno ako želimo pravilno podijeliti ulazni signal onda broj točaka mora biti složen broj. Ako je pak broj točaka **prost** broj onda ne možemo koristiti princip podijeli-pa-vladaj. Usprkos tome ipak postoje drugi algoritmi za efikasno računanje diskretne Fourierove transformacije u slučaju kada je broje točaka $N$ prost. Jedan primjer jest Raderov FFT algoritam kod kojeg se transformacija prvo iskazuje kao konvolucija te se zatim primijenjuje teorem o konvoluciji koji problem svodi na korištenje standardnih FFT algoritama kao što je Cooley-Tukeyev algoritam.\n",
        "\n",
        "Ako okupimo zajedno algoritme za efikasni izračun diskretne Fourierove transformacije za svaki mogući broj točaka $N$ onda time ostvarujemo univerzalno riješenje za efikasno određivanje DFT-a. To je upravo ono što radi  funkcija [`scipy.fft.fft`](https://docs.scipy.org/doc/scipy/reference/generated/scipy.fft.fft.html) u SciPyju i što radi funkcija [`fft`](https://www.mathworks.com/help/matlab/ref/fft.html) u Matlabu.\n",
        "\n",
        "Iako i SciPyjeva funkcija [`scipy.fft.fft`](https://docs.scipy.org/doc/scipy/reference/generated/scipy.fft.fft.html) i Matlabova funkcija [`fft`](https://www.mathworks.com/help/matlab/ref/fft.html) efikasno računaju diskretnu Foureriovu transformaciju one nisu nužno i optimalne/najbrže."
      ]
    },
    {
      "cell_type": "markdown",
      "metadata": {
        "id": "onYBbTUOQEyh"
      },
      "source": [
        "## 1.3. Samoprilagođujući FFT algoritmi\n",
        "\n",
        "Do sada opisani pristupi efikasnom računanju diskretne Fourierove transformacije su bili usredotočeni na složenost u broju operacija koja je smanjena s $O(N^2)$ na $O(N\\log_2N)$. No kod gotovo svih modernih računala [latencija](http://loci.cs.utk.edu/dsi/netstore99/docs/presentations/keynote/sld023.htm) je drugi značajni faktor kojeg treba uzeti u obzir.\n",
        "\n",
        "Za jako velike vrijednosti parametra $N$ usko grlo u obradbi postaje brzina kojom aritmetičko-logička procesna jedinica (ili jedinica za artimetiku s pomičnom točkom) prima potrebne podatke tijekom izračuna. Na primjer: ako izvršavanje jedne jednostavne instrukcije traje oko 0.5 ns, tada je trajanje dohvata podataka iz L1 priručne memorije oko 0.5 ns, iz L2 priručne memorije ko 7 ns, a iz glavne memorije oko 100 ns. Sve te navedene vrijednosti se razlikuju za barem dva reda veličine što znači da moramo pažljivo definirati način kako podaci dolaze do procesne jedinice jer je procesna jedinica značajno brža od glavne memorije. Stoga je osim smanjenja složenosti u broju operacija s $O(N^2)$ na $O(N\\log_2N)$ također važan i redoslijed izvođenja pojedinih operacija. Drugim riječima rečeno, instrukcijski cjevovod i memorijska hierarhija značajno utječu na performanse i zato uvijek moraju biti uzeti u obzir kod stvarnih implementacija FFT-a i svih ostalih algoritama koji rukuju s velikim količinama podataka.\n",
        "\n",
        "Korištenje višejezgrenih procesora dodatno otežava opisani problem kako efikasno slati podatke do procesnih jedinica.\n",
        "\n",
        "Obzirom na izobilje raznovrsnih modela procesora i računalnih arhitektura ne možemo dizajnirati jedan univerzalni algoritma za računanje diskretne Fourierove transformacije koji je ujedno i optimalan. Umjesto toga puno razumniji pristup jest definirati kako se neki algoritam može samostalno prilagoditi odabranom procesoru i pridruženoj računalnoj arhitekturi. U tom smislu želimo konstruirati **samoprilagođujući program** koji se samostalno prilagođava sklopovlju na kojem se izvodi.\n",
        "\n",
        "Dva temljena primjera kako je moguće samoprilagoditi program za numeričko računanje sklopovlju na kojem se izvršava su softverska biblioteka ATLAS koja je među prva definirala praktičnu metodologiju za samoprilagodbu softvera hardveru (vidi izvještaj R. C. Whaleya i J. J. Dongarra [Automatically Tuned Linear Algebra Software](http://www.netlib.org/lapack/lawnspdf/lawn131.pdf)) i softverska biblioteka FFTW koja je definirala metodologiju kako izvesti samoprilagođujuće potprograme za brzu Fourierovu transformaciju (vidi rad M. Friga i S. G. Johnsona [The Design and Implementation of FFTW3](https://doi.org/10.1109/JPROC.2004.840301)).\n",
        "\n",
        "U ovoj laboratorijskoj vježbi ćemo uz ScyPyjevu [`scipy.fft`](https://docs.scipy.org/doc/scipy/reference/tutorial/fft.html) koristiti i biblioteku FFTW radi demonstracije kako rade samoprilagođujući FFT algoritmi te istraživanja koliko ubrzanje možemo ostvariti. FFTW se može preuzeti s adrese http://fftw.org/.\n"
      ]
    },
    {
      "cell_type": "markdown",
      "metadata": {
        "id": "Y6lNyO8lm1bW"
      },
      "source": [
        "# 2. FFTW i pyFFTW\n",
        "\n",
        "Osim ScyPyjevog [`scipy.fft`](https://docs.scipy.org/doc/scipy/reference/tutorial/fft.html) koristit ćemo i biblioteku FFTW koja je slobodno dostupna na http://fftw.org/.\n",
        "\n",
        "Biblioteka FFTW u pravilu bolja od ostalih javno dostupnih implementacija FFT-a, a osim toga usporediva je i s komercijalnim paketima za numeričku analizu koje na tržište stavljaju proizvođači procesora kao što je na primjer [Intelov MKL](https://software.intel.com/sites/default/files/article/165868/intel-mkl-fft-training-ppt-v11.pdf). Biblioteka FFTW je napisana u programskom jeziku C i zbog svojstva samoprilagođavanja njene performanse su usporedive na različitim hardverskim platformama i pri tome nismo ograničeni na određeni hardver kao što je slučaj kod komercijalnih paketa.\n",
        "\n",
        "Ako želimo koristiti biblioteku FFTW u ovoj Jupyterskoj bilježnici na Colabu onda prvo instaliramo [pyFFTW](https://github.com/pyFFTW/pyFFTW) koristeći naredbu `pip` (ovisno o verziji Colaba ovaj korak može biti preskočen):\n"
      ]
    },
    {
      "cell_type": "code",
      "execution_count": 2,
      "metadata": {
        "colab": {
          "base_uri": "https://localhost:8080/"
        },
        "id": "bGoTrO1UoYEc",
        "outputId": "dff9e33d-7e9a-40cc-9d8b-ea885d0bbdec"
      },
      "outputs": [],
      "source": [
        "# Uvezi potrebne module\n",
        "import pyfftw\n",
        "import multiprocessing\n",
        "import timeit"
      ]
    },
    {
      "cell_type": "markdown",
      "metadata": {
        "id": "_DhDZJsJfsh6"
      },
      "source": [
        "Jednom kada je pyFFTW uspješno instaliran možemo ga koristiti za efikasno računanje diskretne Fourierove transformacije.\n",
        "\n",
        "U odnosu na `scipy.fft.fft` dvije glavne razlike u korištenju biblioteke FFTW su priprema **izračunskog plana** (engl. *computing plan*) kojom se samoprilagođujemo sklopovlju i uvjet da ulazni podaci moraju biti **poravnani** (engl. *aligned*).\n",
        "\n",
        "Priprema **izračunskog plana** provodi se samo jednom za odabranu vrijednost $N$, vrstu transformacije (normalna ili inverzna, kompleksni ili realni ulaz), te ulazni i izlazni međuspremnik (zbog poravnanja). Priprema izračunskog plana je srž samoprilagođavanja sklopovlju na kojem se program izvršava. Po završetku pripreme izračunskog plana isti se može trajno pohraniti te zatim koristiti po potrebi pa je prema tome priprema plana jednokratni trošak.\n",
        "\n",
        "**Poravnanje podataka** jest ograničenje sklopovlja koje je uglavnom potpuno skriveno u visokim programskim jezicima kao što je Python. Današnji procesori tipično podržavaju [SIMD](https://en.wikipedia.org/wiki/SIMD) instrukcije koje se koriste kada jednu računsku operaciju primjenjujemo na više podataka istovremeno. Primjer komercijalnih instrukcijski setova te namjene su između ostalog Intelov [AVX](https://software.intel.com/content/www/us/en/develop/articles/introduction-to-intel-advanced-vector-extensions.html) i Armov [Neon](https://www.arm.com/why-arm/technologies/neon).\n",
        "\n",
        "SIMD instrukcije općenito zahtijevaju da su podatci pohranjeni u poravnanim blokovima. Na primjer, instrukcija za istovremenu obradbu $4$ broja pohranjenja u dvostrukoj preciznosti zahtijeva da svaki blok podataka koji sadrži točno $4$ broja ima početnu memorijsku adresu koja je djeljiva s $32$ bajta, pa sukladno tome koristimo poravnanje na $128$ bita što je veličina jednog bloka. Ako dakle želimo maksimalno iskoristiti raspoloživu procesnu moć nekog procesora koji podržava SIMD instrukcije onda moramo ispravno poravnati sve podatke koji se nalaze u memoriji."
      ]
    },
    {
      "cell_type": "markdown",
      "metadata": {
        "id": "YU2TAQ_CPSm_"
      },
      "source": [
        "## 2.1. Korištenje biblioteke pyFFTW \n",
        "\n",
        "Upute za pyFFTW biblioteku su dostupne na https://pyfftw.readthedocs.io/.\n",
        "\n",
        "Također vam mogu biti korisne i upute za FFTW koje su dostupne na  http://www.fftw.org/fftw3_doc/.\n",
        "\n",
        "Pokažimo sada na primjeru kako pripremamo izračnuski plan za normalnu transformaciju u $N=128$ točaka nad poravnanim podacima. Okvirno, prvo pripremamo plan, zatim generiramo nasumični niz podataka za koji računamo diskretnu Fourierovu transformaciju korištenjem FFTW bibilioteke i korištenjem funkcije `scipy.fft.fft`, te na kraju uspoređujemo dobivene spektre koji moraju biti jednaki."
      ]
    },
    {
      "cell_type": "code",
      "execution_count": 3,
      "metadata": {
        "colab": {
          "base_uri": "https://localhost:8080/"
        },
        "id": "0Q12OOqLmM4C",
        "outputId": "458779b4-75ab-462a-d2bd-bb51439229f4"
      },
      "outputs": [
        {
          "data": {
            "text/plain": [
              "True"
            ]
          },
          "execution_count": 3,
          "metadata": {},
          "output_type": "execute_result"
        }
      ],
      "source": [
        "# Omogući korištenje svih dostupnih procesorskih jezgri\n",
        "pyfftw.config.NUM_THREADS = multiprocessing.cpu_count();\n",
        "\n",
        "# Definiraj prostor za pohranu ulaznog signala i izlaznog spektra\n",
        "signal = pyfftw.empty_aligned(128, dtype='complex128');\n",
        "spektar = pyfftw.empty_aligned(128, dtype='complex128');\n",
        "\n",
        "# Stvori izračunski plan\n",
        "fft_plan_128 = pyfftw.FFTW(signal, spektar, direction='FFTW_FORWARD');\n",
        "\n",
        "# Generiraj podatke\n",
        "xr = randn(1, 128)\n",
        "xi = randn(1, 128)\n",
        "\n",
        "# Kopiraj podatke u ulazni spremnik\n",
        "x = xr + 1j*xi;\n",
        "signal[:] = x;\n",
        "\n",
        "# Izračunaj spektar korištenjem FFTW bibiloteke\n",
        "X1 = fft_plan_128();\n",
        "\n",
        "# Izračunaj spektar korištenjem funkcije fft\n",
        "X2 = fft(x);\n",
        "\n",
        "# Usporedi dobivene vrijednosti, rezultat mora biti True\n",
        "allclose(X1, X2)"
      ]
    },
    {
      "cell_type": "markdown",
      "metadata": {
        "id": "SSbhIZABt0Jc"
      },
      "source": [
        "Pripremu izračunskog plana vrši konstruktor [`pyfftw.FFTW`](https://pyfftw.readthedocs.io/en/latest/source/pyfftw/pyfftw.html#fftw-class). U ovom slučaju tražimo normalnu transformaciju kompleksnog signala. Stvoreni izračunski plan jest standardni, a ako želimo efikasniji plan onda možemo zadati zastavicu `FFTW_EXHAUSTIVE`.\n",
        "\n",
        "Izračun transformacije se pokreće pozivanjem metode `execute()` koja računa transformaciju podataka pohranjenih u varijabli `signal` (ulazni spremnik) i koja pohranjuje rezultat transformacije u varijablu `spektar` (izlazni spremnik). Izlazna varijabla `X1` je pokrata za `spektar`. U ovom slučaju transformaciju računamo za nasumično generirani niz podataka kojeg smo dobili korištenjem funkcije [`numpy.random.rand`](https://numpy.org/devdocs/reference/random/generated/numpy.random.rand.html), no to nas ne smeta jer nas zanima isključivo vrijeme izvođenja.\n",
        "\n",
        "Nakon izračuna pozivanjem funkcije [`numpy.allclose`](https://numpy.org/doc/stable/reference/generated/numpy.allclose.html) uspoređujemo rezultate funkcija `pyfftw.FFTW` i [`scipy.fft.fft`](https://docs.scipy.org/doc/scipy/reference/generated/scipy.fft.fft.html) kako bi provjerili ispravnost postupka. Očekivani izlaz je `True`."
      ]
    },
    {
      "cell_type": "markdown",
      "metadata": {
        "id": "W1SeQ61ZPPAa"
      },
      "source": [
        "## 2.2. Vrijeme izvođenja FFT algoritama\n",
        "\n",
        "S obzirom na postojanje mnoštva različitih implementacija FFT algoritma uvijek nas zanima koji od njih je najbrži obzirom na hardver kojeg koristimo. Kako bi odredili koji algoritam je najbrži moramo izmjeriti stvarno prosječno vrijeme izvođenja, a to možemo napraviti korištenjem modula [`timeit`](https://docs.python.org/3/library/timeit.html).\n",
        "\n",
        "Pokažimo sada na primjeru kako se koristi funkcije `timeit.timeit` za mjerenje vremena izvođenja FFTW algoritma: \n"
      ]
    },
    {
      "cell_type": "code",
      "execution_count": 4,
      "metadata": {
        "colab": {
          "base_uri": "https://localhost:8080/"
        },
        "id": "CPA7A_EEpKlx",
        "outputId": "3f4fc550-71df-46dd-df0e-44b980a9832c"
      },
      "outputs": [
        {
          "name": "stdout",
          "output_type": "stream",
          "text": [
            "0.06925697800033959\n"
          ]
        }
      ],
      "source": [
        "setup_FFTW = '''\n",
        "import pyfftw\n",
        "import multiprocessing\n",
        "import numpy\n",
        "pyfftw.config.NUM_THREADS = multiprocessing.cpu_count();\n",
        "N = 2**7 - 1;\n",
        "signal = pyfftw.empty_aligned(N, dtype='complex128');\n",
        "spectrum = pyfftw.empty_aligned(N, dtype='complex128');\n",
        "fft_plan = pyfftw.FFTW(signal, spectrum, direction='FFTW_FORWARD');\n",
        "xr = numpy.random.randn(1, N);\n",
        "xi = numpy.random.randn(1, N);\n",
        "signal[:] = xr + 1j*xi;\n",
        "''' \n",
        "\n",
        "code_FFTW = '''\n",
        "X = fft_plan();\n",
        "'''\n",
        "\n",
        "print( timeit.timeit(setup = setup_FFTW, stmt = code_FFTW, number=10000) )"
      ]
    },
    {
      "cell_type": "markdown",
      "metadata": {
        "id": "Aebf49riucLp"
      },
      "source": [
        "Uočite da je rezultat jednak vremenu potrebnom za 10000 ponavljanja izraženom u sekundama. Dakle, želimo li odrediti prosječno vrijeme jednog izvođenja DFT-a onda moramo podijeliti izlaz s brojem ponavljanja.\n",
        "\n",
        "Ovdje napominjemo da mjerenje vremena izvršavanja jednog poziva neke funkcije to nepouzdanije što je vrijeme izvođenja te funkcije kraće. Zato se standardno mjeri zbirno vrijeme višestrukog izvođenja funkcije pri čemu je broj ponavljanja to veći što funkcija kraće traje pa smo zato u ovom primjeru broj ponavljanja postavili na visokih 10000. Okvirno je funkcije čije izvršavanje traje oko 100 ms dovoljno ponoviti između 10 i 100 puta da bi se dobilo stabilno očekivano vrijeme izvođenja. Prema tome funkcije koje kraće traju je potrebno ponavljati više puta, a funkcije koje kraće traju manje puta. Osim toga kod mjerenja vremena izvršavanja funkcija koje traju jako dugo potrebno je osigurati da je opterećenje računala od strane ostalih zadataka stalno.\n",
        "\n",
        "Pokažimo sada kako koristimo `timeit.timeit` za mjerenje vremena izvođenja funkcije `scipy.fft.fft`: "
      ]
    },
    {
      "cell_type": "code",
      "execution_count": 7,
      "metadata": {
        "colab": {
          "base_uri": "https://localhost:8080/"
        },
        "id": "xWMy_KZcsq59",
        "outputId": "a2eb70d0-3f68-402e-c507-b938112ad015"
      },
      "outputs": [
        {
          "name": "stdout",
          "output_type": "stream",
          "text": [
            "0.1491039450011158\n"
          ]
        }
      ],
      "source": [
        "setup_fft = '''\n",
        "import numpy\n",
        "import scipy.fft\n",
        "N = 2**7 - 1;\n",
        "xi = numpy.random.randn(1, N);\n",
        "xr = numpy.random.randn(1, N);\n",
        "x = xr + 1j*xi;\n",
        "''' \n",
        "\n",
        "code_fft = '''\n",
        "X = scipy.fft.fft(x);\n",
        "'''\n",
        "\n",
        "print( timeit.timeit(setup = setup_fft, stmt = code_fft, number=10000) )"
      ]
    },
    {
      "cell_type": "markdown",
      "metadata": {
        "id": "n137BGrWTrbZ"
      },
      "source": [
        "## 2.A Usporedba `scipy.fft.fft` i FFTW\n",
        "\n",
        "Korištenjem modula `timeit` želimo objektivno usporediti vrijeme izvođenja samoprilagođujućeg FFTW algoritma u odnosu na `scipy.fft.fft`, i to za odabranu vrstu ulaznog signala i za odabrani broj točaka.\n",
        "\n",
        "Najčešća primjena FFT algoritma je za računanje diskretne Fourierove transformacije nekog **realnog** niza podataka.\n",
        "\n",
        "Napišite programski kod koji koristi pyFFTW biblioteku i koji prvo priprema **izračnuski plan** (možete koristite zastavicu `FFTW_EXHAUSTIVE` no imajte u vidu da mjerenje vremena izvršavanja svih mogućih izračnuskih planova može trajati jako dugo, i to pogotovo za transformacije u velikom broju točaka) koji koristi **sve dostupne jezgre procesora** za transformaciju **realnog niza podataka** (slobodno dodajte koliko god programskih blokova vam treba):"
      ]
    },
    {
      "cell_type": "code",
      "execution_count": 5,
      "metadata": {
        "id": "9rY58OwhoHff"
      },
      "outputs": [
        {
          "name": "stdout",
          "output_type": "stream",
          "text": [
            "N=256 : time=0.00011111100320704281\n",
            "N=1024 : time=0.00045761000001220964\n",
            "N=4096 : time=0.002769374998024432\n",
            "N=8191 : time=0.046155525000358466\n",
            "N=131071 : time=2.1845236270019086\n",
            "N=524287 : time=10.990641424999922\n"
          ]
        }
      ],
      "source": [
        "N_values = [2 ** 8, 2 ** 10, 2 ** 12, 2 ** 13 - 1, 2 ** 17 - 1, 2 ** 19 - 1]\n",
        "\n",
        "fftw_setup = '''\n",
        "import pyfftw\n",
        "import multiprocessing\n",
        "import numpy\n",
        "pyfftw.config.NUM_THREADS = multiprocessing.cpu_count()\n",
        "pyfftw.config.PLANNER_EFFORT = \"FFTW_EXHAUSTIVE\"\n",
        "signal = pyfftw.empty_aligned(N, dtype=\"float32\")\n",
        "spectrum = pyfftw.empty_aligned(N // 2 + 1, dtype=\"complex64\")\n",
        "fft_plan = pyfftw.FFTW(signal, spectrum, direction=\"FFTW_FORWARD\")\n",
        "signal[:] = numpy.random.randn(1, N);\n",
        "'''\n",
        "\n",
        "for N in N_values:\n",
        "    full_setup = f\"N={N};\\n\" + fftw_setup\n",
        "    print(\n",
        "        f\"N={N} : time={timeit.timeit(setup = full_setup, stmt = code_FFTW, number=100)}\")\n"
      ]
    },
    {
      "cell_type": "markdown",
      "metadata": {
        "id": "WMKHS7pbUvyp"
      },
      "source": [
        "Nakon što dovršite tražni kod usporedite vremena izvođenja funkcije `scipy.fft.fft` s vremenima izvođenja pripremljenog izračunskog plana za različite vrijednosti broja točaka $N$ koje se nalaza u tablici ispod ovog bloka (slobodno dodajte koliko god programskih blokova vam treba):"
      ]
    },
    {
      "cell_type": "code",
      "execution_count": 8,
      "metadata": {
        "id": "2TPq6ADaUwG1"
      },
      "outputs": [
        {
          "name": "stdout",
          "output_type": "stream",
          "text": [
            "N=256 : time = 0.0031826790000195615\n",
            "N=1024 : time = 0.0025400739978067577\n",
            "N=4096 : time = 0.005882763998670271\n",
            "N=8191 : time = 0.09673722499792348\n",
            "N=131071 : time = 3.1013676059992576\n",
            "N=524287 : time = 14.211179901998548\n"
          ]
        }
      ],
      "source": [
        "fft_setup = '''\n",
        "import numpy\n",
        "import scipy.fft\n",
        "x = numpy.random.randn(1, N);\n",
        "'''\n",
        "\n",
        "for N in N_values:\n",
        "    fft_full_setup = f\"N={N};\\n\" + fft_setup\n",
        "    print(f\"N={N} : time = { timeit.timeit(setup = fft_full_setup, stmt = code_fft, number=100) }\")\n"
      ]
    },
    {
      "attachments": {},
      "cell_type": "markdown",
      "metadata": {
        "id": "YPz93crTU7VX"
      },
      "source": [
        "Vremena izvođenja ovise o računalu kojeg koristite za izvođenje ove vježbe. Naredba *Restart and run all* u Colabu briše sve izlaze pa zato vaše rezultate upišite u doljenavedenu tablicu.\n",
        "\n",
        "| Duljina signala | Vrijeme izvođenja za FFTW (s) | Vrijeme izvođenja za `scipy.fft.fft` (s) |\n",
        "| --- | --- | --- |\n",
        "| $N=2^{8}$    | **0.00011111100320704281** | **0.0031826790000195615** |\n",
        "| $N=2^{10}$   | **0.00045761000001220964** | **0.0025400739978067577** |\n",
        "| $N=2^{12}$   | **0.002769374998024432** | **0.005882763998670271** |\n",
        "| $N=2^{13}-1$ | **0.046155525000358466** | **0.09673722499792348** |\n",
        "| $N=2^{17}-1$ | **2.1845236270019086** | **3.1013676059992576** |\n",
        "| $N=2^{19}-1$ | **10.990641424999922** | **14.211179901998548** |\n",
        "\n",
        "Dodatno, pribilježite ostale interesantne podatke o korištenom računalu i/ili korištenom virtualnom stroju kao što su broj jezgri procesora, broj ponavljanja, itd.:\n",
        "\n",
        "**broj ponavljanja: 100**\n",
        "\n",
        "Neobavezni dodatni zadatak: Napišite programski kod koja automatizira mjerenje vremena izvođenja te ga iskoristite za crtanje grafa koji prikazuje kako vrijeme izvođenja ovisi o broju točaka signala, i to za sve vrijednosti $N$ koje podržava računalo (ili virtualni stroj) kojeg koristite za izradu vježbe."
      ]
    },
    {
      "cell_type": "markdown",
      "metadata": {
        "id": "JPjeTysSuvgZ"
      },
      "source": [
        "## 3. Primjene FFT-a u obradbi signala\n",
        "\n",
        "Sada kad znamo što je FFT i kako ga računamo razmotrimo važne primjene u području obradbe signala.\n",
        "\n",
        "Najčešća primjena FFT-a u digitalnoj obradbi signala jest za najobičnije računanje spektra nekog signala. Tu primjenu smo pokazali na prvoj laboratorijskoj vježbi.\n",
        "\n",
        "Druge dvije značajne primjene FFT-a u digitalnoj obradbi signala su za efikasno računanje konvolucija i korelacija signala konačnog trajanja."
      ]
    },
    {
      "cell_type": "markdown",
      "metadata": {
        "id": "yu-nipcVb6hK"
      },
      "source": [
        "## 3.1. Obradba signala u blokovima\n",
        "\n",
        "Prisjetimo se da FIR filtar reda $M$ ima impulsni odziva $h[n]$ konačne duljine od $M+1$ uzorka, dakle\n",
        "\n",
        "$$h[n]=\\begin{cases}0,& n<0\\\\b_n,&0\\le n\\le M\\\\0,&M<n \\end{cases},$$\n",
        "\n",
        "gdje su $b_n$ koeficijenti brojnika prijenosne funkcije filtra.\n",
        "\n",
        "Odziv $y[n]$ takvog FIR filtra na neki ulazni signal $x[n]$ jest konvolucija\n",
        "\n",
        "$$y[n]=x[n] \\ast h[n]=\\sum_{m=-\\infty}^{+\\infty}x[m]h[n-m]=\\sum_{m=-\\infty}^{+\\infty}x[n-m]h[m].$$\n",
        "\n",
        "Neka je $w_L[n]$ pravokutni vremenski otvor duljine $L$, odnosno\n",
        "\n",
        "$$w_L[n]=\\begin{cases}1,&0\\le n<L\\\\0,&\\text{inače}\\end{cases}.$$\n",
        "\n",
        "Pomoću pravokutnog otvora $w_L[n]$ možemo ulazni signal $x[n]$ rastaviti na **nepreklapajuće** blokove $x_k[n]$ duljine $L$, odnosno \n",
        "\n",
        "$$x[n]=\\sum_{k=-\\infty}^{+\\infty}\\underbrace{x[n]w_L[n-k L]}_{x_k[n]}.$$\n",
        "\n",
        "Konvolucija sada postaje\n",
        "\n",
        "\\begin{align}\n",
        "y[n]=x[n] \\ast h[n]&=\\sum_{m=-\\infty}^{+\\infty}x[m]h[n-m]\\\\\n",
        "&=\\sum_{m=-\\infty}^{+\\infty}\\Bigl(\\sum_{k=-\\infty}^{+\\infty}x[m]w_L[m-k L]\\Bigr)h[n-m]\\\\\n",
        "&=\\sum_{k=-\\infty}^{+\\infty}\\Bigl(\\sum_{m=-\\infty}^{+\\infty}x[m]w_L[m-k L]h[n-m]\\Bigr)\\\\\n",
        "&=\\sum_{k=-\\infty}^{+\\infty}\\Bigl(\\underbrace{\\bigl(x[n]w_L[n-kL]\\bigr) \\ast h[n]}_{y_k[n]}\\Bigr),\n",
        "\\end{align}\n",
        "\n",
        "odnosno prepoznajemo da je izlaz $y[n]$ također rastavljen na blokove $y_k[n]$. Svaki izlazni blok $y_k[n]$ jednak je konvoluciji $k$-tog ulaznog bloka $x_k[n]=x[n]w_L[n-kL]$ i implsnog odzvia $h[n]$.\n",
        "\n",
        "I ulazni blok $x_k[n]=x[n]w_L[n-kL]$ i impulsni odziv $h[n]$ su konačnog trajanja s duljinama $L$ i $M+1$. Sukladno tome izlazni blok $y_k[n]$ je duljine $L+M$. Obzirom da je posmak izlaznih blokova $y_k[n]$ točno $kL$ kažemo da je izlazni signal $y[n]$ rastavljen na **preklapajuće** blokove jer je duljina izlaznog bloka $L+M$ veća od razmaka $L$ između blokova.\n",
        "\n",
        "Rastav signala u blokove je osnova blokovske obradbe čija ključna prednost jest da primjenom teorema o konvoluciji te poznavanjem veze između **linearne** i **cirkularne** konvolucije možemo efikasno korištenjem FFT-a obraditi svaki blok pojedinačno.\n",
        "\n",
        "Ovisno o tome kako se rješava problem preklapanja izlaznih blokova pri spajanju rezultata pojedinačne obradbe blokova razlikujemo metodu dodavanja preklopa (engl. *overlap-add*) i metodu odbacivanja preklopa (engl. *overlap-save*). U ovoj vježbi raspravu ograničavamo samo na postupke obradbe pojedinačnog bloka i ne ulazimo u detalje kako najefikasnije spojiti blokove u izlazni signal."
      ]
    },
    {
      "cell_type": "markdown",
      "metadata": {
        "id": "enPAPTfk_kla"
      },
      "source": [
        "## 3.2. Linearna i cirkularna konvolucija\n",
        "\n",
        "Osnovna operacija za obradbu signala u blokovima jest konvolucija dva signala konačnog trajanja, u našem slučaju signali su $x_k[n]=x[n]w_L[n]$ i $h[n]$. Ne smanjujući općenitost razmatramo samo obradbu prvog bloka $x_0[n]$ za kojeg je konvolucija\n",
        "\n",
        "$$y_0[n]=x_0[n]\\ast h[n]=\\sum_{m=\\max(0,n-L+1)}^{\\min{n,M}}h[m]x_0[n-m].$$\n",
        "\n",
        "Tako definirana konvolucija dva vremenski diskretna signala naziva se **linearna konvolucija** (engl. *linear convolution*).\n",
        "\n",
        "Linearna konvolucija je povezana s teoremom o konvoluciji za vremenski diskretnu Fourierovu transforaciju (DTFT) koji govori da se **linarana** konvolucija dva vremenski diskretna signala u vremenskoj domeni transformira u običan umnožak njihovih spektara u frekvencijskoj domeni.\n",
        "\n",
        "S druge strane, teorem o konvoluciji za diskretnu Fourierovu transformaciju u $N$ točaka $(\\text{DFT}_N)$ odnosni se na **cirkularnu konvoluciju** (engl. *circular convolution*). Cirkularna konvolucija dva signala duljina $N$ je \n",
        "\n",
        "$$x_0[n]\\circledast h[n]=\\sum_{m=0}^{N-1}h[m]x_0\\bigl[\\langle n-m\\rangle_N],$$\n",
        "\n",
        "gdje oznaka $\\langle n-m\\rangle_N$ znači da je indeks $n-m$ izračunat modulo $N$. Takvo indeksiranje određeno funkcijom ostatka (modul) opravdava naziva **cirkularna**, **ciklička** ili **kružna** konvolucija. Kako bi razlikovali linearnu i cirkularnu konvoluciju cirkularnu konvoluciju obično označavamo sa zaokruženom zvjezdicom ili asteriskom, a linearnu konvoluciju s običnom zvjezdicom.\n",
        "\n",
        "Teorem o konvoluciji za diskretnu Fourierovu transformaciju (DFT) govori da se **cirkularna** konvolucija dva vremenski diskretna signala u vremenskoj domeni transformira u običan umnožak njihovih spektara u frekvencijskoj domeni.\n",
        "\n",
        "Jasno je da se dvije navedene definicije konvolucije razlikuju, odnosno za DTFT je relevantna linearna konvolucija dok je za DFT relevantna cirkularna konvolucija.\n",
        "\n",
        "Međutim, ako odaberemo broj točaka $N$ za $\\text{DFT}_N$ tako da vrijedi\n",
        "\n",
        "$$N\\ge M+L$$\n",
        "\n",
        "onda konvolucije postaju jednake, dakle\n",
        "\n",
        "$$\\sum_{m=0}^{N-1}h[m]x_0\\bigl[\\langle n-m\\rangle_N]=\\sum_{m=\\max(0,n-L+1)}^{\\min{n,M}}h[m]x_0[n-m]$$\n",
        "\n",
        "za $0\\le n< M+L$. Uočite da oba signala imaju manje točaka od $N$, odnosno signal $h[n]$ je duljine $M+1<N$ dok je signal $x_0[n]$ duljine $L<N$. Ostale točke signala do duljine $N$ moraju biti jednako nuli. Kažemo da ako dva signala konačnog trajanja proširimo dometkom nula (engl. *zero-padding*) tada za dovoljno veliki dometnuti broj nula cirkularna konvolucija postaje identična linearnoj konvoluciji.\n",
        "\n",
        "To znači da ako odaberemo dovoljno velik broj točaka $N$ takav da je $N$ veći ili jednak zbroju duljina signala umanjenom za jedan, dakle u našem primjeru $N\\ge (M+1)+L-1=M+L$, onda možemo izračunati **linearnu** konvoluciju korištenjem teorema o konvoluciji za $\\text{DFT}_N$. Prema tome vrijedi\n",
        "\n",
        "$$x_0[n] \\ast h[n] = \\sum_{m=\\max(0,n-L+1)}^{\\min{n,M}}h[m]x_0[n-m] = \\text{IDFT}_N\\bigl[\\underbrace{\\text{DFT}_N\\bigl[x_0[n]\\bigr]}_{X_0[k]}\\cdot\\underbrace{\\text{DFT}_N\\bigl[h[n]\\bigr]}_{H[k]}\\bigr]=\\text{IDFT}_N\\bigl[X_0[k]H[k]\\bigr].$$\n",
        "\n",
        "Razmotrimo sada kolika je složenost u broju operacija za izravno računanje konvolucijske sume te kolika je složenost u broju operacija računanja dvije $\\text{DFT}_N$ transformacije, njihovog umnoška, i inverzne transformacije $\\text{IDFT}_N$.\n",
        "\n",
        "Gornja ograda broja operacija množenja u jednoj iteraciji sume jest $\\min(M+1,L)$. Tu sumu moramo izračunati ukupno $M+L$ puta ako želimo odrediti sve izlazne uzorke jednog bloka. Neka je $N=M+L$ duljina izlaznog bloka (uočite kako je odabrana duljna istodobno i minimalna duljina diskretne Fourierove transformacije). Nadalje, $\\min(M+1,L)$ je obično $M+1$ jer je impuslni odziv je često kraći od duljine jednog bloka signala. Ukupan broj operacija množenja je tada ograničen odozgo s $N(M+1)$. Na sličan način možemo odrediti potreban broj operacija zbrajanja. Svekupuno, složenost u broju operacija izravnog računanja konvolucije jest $O\\bigl(NM)$.\n",
        "\n",
        "S druge strane ako koristimo brzu Fourierovu transformaciju moramo izračunati tri transformacije u $N$ točaka (dvije izravne transformacije i jedna inverzna transformacija) tako da je složenost u broju operacija opet $O(N\\log_2 N)$ uz konstantu 3 koju smo odbacili. Složenost jednostavnog množenja dva spektra jest $O(N)$. Prema tome složenost korištenja FFT-a za računanje linerane konvolucije ostaje $O(N\\log_2 N)$, no s dosta većom konstantom u odnosu na samo jedan FFT. Također uočite kako je impulsni odziv $h[n]$ gotovo uvijek nepromjenjiv pa se njegova transformacija može unaprijed izračunati, odnosno radi se o jednokratnom trošku.\n",
        "\n",
        "Obizrom na sve navedeno ako odaberemo dovoljno veliku duljinu bloka $L$ i ako $M$ nije premali onda obradba signala u blokovima postaje efikasnija u odnosu na izravno računanje konvolucijske sume prema definiciji. Glavni nedostatak je u umjetno dodanom kašnjenju koje usporava obradbu u stvarnom vremenu: da bi obradili jedan blok moramo čekati i prikupiti svih $L$ uzoraka jednog ulaznog bloka i tek onda možemo provesti izračun. Zbog navedenoga je obradba signala u blokovima idealna za primjene koje ne traže rad u stvarnom vremenu. "
      ]
    },
    {
      "cell_type": "markdown",
      "metadata": {
        "id": "zZ9Guo8QX_0w"
      },
      "source": [
        "Pokažimo sada na primjeru kako računamo konvoluciju $z[n]=x[n]\\ast y[n]$ između signala $x[n] =\\{\\underline{1},2,3,4\\}$ i $y[n]=\\{\\underline{0,1,1,0}\\}$ izravno prema definiciji korištenjem funkcije [`scipy.signal.convolve`](https://docs.scipy.org/doc/scipy/reference/generated/scipy.signal.convolve.html) te efikasnije korištenjem funkcije `scipy.fft.fft`:"
      ]
    },
    {
      "cell_type": "code",
      "execution_count": 9,
      "metadata": {
        "colab": {
          "base_uri": "https://localhost:8080/"
        },
        "id": "PucrlQNyRFbU",
        "outputId": "8316e8d9-8e48-41f4-a763-653fa9b4535d"
      },
      "outputs": [
        {
          "name": "stdout",
          "output_type": "stream",
          "text": [
            "[0. 1. 3. 5. 7. 4. 0.]\n",
            "[3.48927236e-16+0.j 1.00000000e+00+0.j 3.00000000e+00+0.j\n",
            " 5.00000000e+00+0.j 7.00000000e+00+0.j 4.00000000e+00+0.j\n",
            " 8.24737104e-16+0.j]\n"
          ]
        },
        {
          "data": {
            "text/plain": [
              "True"
            ]
          },
          "execution_count": 9,
          "metadata": {},
          "output_type": "execute_result"
        }
      ],
      "source": [
        "# Definiranje signala\n",
        "x = array([1.0, 2.0, 3.0, 4.0]);\n",
        "y = array([0.0, 1.0, 1.0, 0.0]);\n",
        "\n",
        "# Izračunaj konvoluciju i ispiši dobivene vrijednosti\n",
        "z1 = convolve(x,y);\n",
        "print(z1)\n",
        "\n",
        "# Postavi minimalnu duljinu DFT-a\n",
        "N = len(x) + len(y) - 1\n",
        "\n",
        "# Izračunaj transformacije signala s dometnutim nulama\n",
        "X = fft( concatenate(( x, zeros(N-len(x)) )) )\n",
        "Y = fft( concatenate(( y, zeros(N-len(y)) )) )\n",
        "\n",
        "# Pomnoži spektre\n",
        "Z = X * Y;\n",
        "\n",
        "# Izračunaj inverznu transformaciju\n",
        "z2 = ifft( Z );\n",
        "print(z2)\n",
        "\n",
        "# Usporedi dobivene vrijednosti, rezultat mora biti \"True\"\n",
        "allclose(z1, z2)"
      ]
    },
    {
      "cell_type": "markdown",
      "metadata": {
        "id": "9fT4oA1EZfO6"
      },
      "source": [
        "## 3.A Usporedba izravnog računanja konvolucije i računanja pomoću FFT-a\n",
        "\n",
        "Funkcija [`scipy.signal.convolve`](https://docs.scipy.org/doc/scipy/reference/generated/scipy.signal.convolve.html) podržava dodatni argument `method` koji se može postaviti na `direct` i na `fft` ovisno o tome koji način računanja konvolucije želimo koristiti. Znamo da korištenje FFT ima značajan dodatni trošak pa očekujemo da je izravno računanje bolje za male $N$-ove i da je računanje korištenjem FFT-a bolje za velike $N$-ove.\n",
        "\n",
        "Cilj nam je pronaći konkretnu vrijednost $N$ na kojoj se vremena izvršavanja sijeku za konkretni hardver na kojem pokrećete ovu Jupytersku bilježnicu.\n",
        "\n",
        "Napišite programski kod koji koristeći modul `timeit` mjeri vrijeme izvođenja konvolucije između dva slučajna niza istih duljina $N$ (slobodno dodajte koliko god programskih blokova vam treba):"
      ]
    },
    {
      "cell_type": "code",
      "execution_count": 10,
      "metadata": {
        "id": "hmK1ykfHacKy"
      },
      "outputs": [],
      "source": [
        "timeit_setup = lambda N: f'''\n",
        "import numpy as np\n",
        "import scipy\n",
        "x = np.random.randn(1, {N})\n",
        "y = np.random.randn(1, {N})\n",
        "'''\n",
        "\n",
        "convol_code = lambda method: f'''\n",
        "z = scipy.signal.convolve(x, y, method=\\\"{method}\\\")\n",
        "'''\n",
        "\n",
        "def time_signal_calculation(N, stmt, method, number):\n",
        "    t = timeit.timeit(setup = timeit_setup(N), stmt = stmt(method), number=number) \n",
        "    print(f\"N={N}, method={method} : time = {t}\")\n",
        "    return t\n",
        "    "
      ]
    },
    {
      "cell_type": "markdown",
      "metadata": {
        "id": "zFU68ju1af3-"
      },
      "source": [
        "Vaš zadatak je sada pronaći za koju vrijednost $N$ računanje konvolucije pomoću FFT postaje brže od izravnog računanja.\n",
        "\n",
        "Uputa: Nakon što ste pripremili kod za mjerenje vremena izvođenja jedne konvolucije za fiksni $N$ napišite programsku petlju koja mijenja $N$ počevši od npr. $N=10$ do $N=4000$ s korakom $100$, te koja u svakoj iteraciji mjeri i sprema vrijeme računanja konvolucije na oba načina. Zatim iskoristite ta izmjerena vremena kako bi točnije odredili parametre petlje, a zatim odredite približno nakon kojeg $N$-a korištenje FFT-a postaje efikasnije od izravnog računanja.\n",
        "\n",
        "Slobodno dodajte koliko god programskih blokova vam treba."
      ]
    },
    {
      "cell_type": "code",
      "execution_count": 12,
      "metadata": {
        "id": "1yPETqNna05C"
      },
      "outputs": [
        {
          "name": "stdout",
          "output_type": "stream",
          "text": [
            "N=10, method=direct : time = 0.16652761200020905\n",
            "N=20, method=direct : time = 0.25460407299760845\n",
            "N=30, method=direct : time = 0.43020335199980764\n",
            "N=40, method=direct : time = 0.5683358349997434\n",
            "N=50, method=direct : time = 0.8109101439986262\n",
            "N=60, method=direct : time = 1.0913605319983617\n",
            "N=70, method=direct : time = 1.4719888159997936\n",
            "N=80, method=direct : time = 1.9789331639985903\n",
            "N=90, method=direct : time = 2.335761508998985\n",
            "N=10, method=fft : time = 0.7548366929986514\n",
            "N=20, method=fft : time = 0.79967762600063\n",
            "N=30, method=fft : time = 0.7803618290017766\n",
            "N=40, method=fft : time = 0.7860831060024793\n",
            "N=50, method=fft : time = 0.8147282030004135\n",
            "N=60, method=fft : time = 0.8015263600027538\n",
            "N=70, method=fft : time = 0.8166312850007671\n",
            "N=80, method=fft : time = 0.8433973469982448\n",
            "N=90, method=fft : time = 1.0978682029999618\n"
          ]
        }
      ],
      "source": [
        "def timeit_range(N_range, stmt, method, number):\n",
        "    N_min, N_max, step = N_range\n",
        "    N_values = range(N_min, N_max, step)\n",
        "    return np.array(list(map(lambda N: time_signal_calculation(N, stmt, method, number), N_values)))\n",
        "\n",
        "\n",
        "times_direct = timeit_range((10, 100, 10), convol_code, \"direct\", 10000)\n",
        "times_fft = timeit_range((10, 100, 10), convol_code, \"fft\", 10000)\n"
      ]
    },
    {
      "cell_type": "code",
      "execution_count": 14,
      "metadata": {},
      "outputs": [
        {
          "data": {
            "image/png": "[encoded data removed]",
            "text/plain": [
              "<Figure size 432x288 with 1 Axes>"
            ]
          },
          "metadata": {
            "needs_background": "light"
          },
          "output_type": "display_data"
        }
      ],
      "source": [
        "\n",
        "import matplotlib.pyplot as plt\n",
        "\n",
        "N_values = range(10, 100, 10)\n",
        "\n",
        "plt.plot(N_values, times_direct, label=\"Times using the direct method\")\n",
        "plt.plot(N_values, times_fft, label=\"Times using fft\")\n",
        "plt.legend()\n",
        "plt.show()\n"
      ]
    },
    {
      "attachments": {},
      "cell_type": "markdown",
      "metadata": {
        "id": "-Yag8cbTa2Ba"
      },
      "source": [
        "Dobivena vremena izvođenja ovise o računalu na kojem rješavate ovu vježbu. Naredba *Restart and run all* u Colabu briše sve izlaze pa zato dobivene rezultate prekopirajte u vaš odgovor.\n",
        "\n",
        "Broj točaka $N$ nakon kojeg FFT postaje efikasniji u odnosu na izravno računanje jest:\n",
        "\n",
        "**50**\n",
        "\n",
        "Neobavezni dodatni zadatak: ponovite cijeli postupak mjerenja vremena izvođenja uz korištenje FFTW-a umjesto standardnog Pythonovg FFT-a. Uputa: pogledajte dokumentaciju za `pyfftw.interfaces.scipy_fft`."
      ]
    },
    {
      "cell_type": "markdown",
      "metadata": {
        "id": "nQYM0-bJb-au"
      },
      "source": [
        "## 3.3. Linearna i cirkularna korelacija\n",
        "\n",
        "Neka su $x[n]$ i $y[n]$ dva realna niza konačnog trajanja $L_x$ i $L_y$. Linearna korelacija niza $x[n]$ prema niz $y[n]$ jest\n",
        "\n",
        "$$x[n] \\star y[n] = r_{xy}[n] = \\sum_{m=-\\infty}^{+\\infty} x[n+m]y^*[m],$$\n",
        "\n",
        "a linearna korelacija niza $y[n]$ prema nizu $x[n]$ jest\n",
        "\n",
        "$$y[n] \\star x[n] = r_{yx}[n] = \\sum_{m=-\\infty}^{+\\infty} y[n+m]x^*[n].$$\n",
        "\n",
        "Uočite da korelacija za razliku od konvoluciju nije komutativna, no ako su signali realni onda vrijedi\n",
        "\n",
        "$$y[n] \\star x[n] = r_{yx}[n] = \\sum_{m=-\\infty}^{+\\infty} y[n+m]x[m] = \\sum_{m=-\\infty}^{+\\infty} y[m]x[m-n] = r_{xy}[-n].$$\n",
        "\n",
        "Korelacija između dva vremenski diskretna signala kako smo je definirali se\n",
        "preciznije zove **linearna korelacija**, a ponekad dodatno naglašavamo da se radi o determinističkoj linearnoj korelaciji. Slično kao i za teorem o konvoluciji za vremenski diskretnu Fourierovu transforamciju (DTFT), teorem o korelaciji govori da se linearana korelacija dva vremenski diskretna signala u vremenskoj domeni transformira se u obično množenje između konjugiranog spektra prvog signala i spektra drugog signala u frekvencijskoj domeni. Prema tome vrijedi\n",
        "\n",
        "$$\\text{DTFT}\\bigl[x[n] \\star y[n]\\bigr]=\\text{DTFT}\\Bigl[\\sum_{m=-\\infty}^{+\\infty} x[m+n]y^*[m]\\Bigr]=X(\\omega)Y^*(\\omega)$$\n",
        "\n",
        "i\n",
        "\n",
        "$$\\text{DTFT}\\bigl[y[n] \\star x[n]\\bigr]=\\text{DTFT}\\Bigl[\\sum_{m=-\\infty}^{+\\infty} y[n+m]x^*[n]\\Bigr]=Y(\\omega)X^*(\\omega).$$\n",
        "\n",
        "Slično, neka su $x[n]$ i $y[n]$ dva niza konačnog trajanja duljine $N$. **Cirkularna korelacija** signala $x[n]$ prema signalu $y[n]$ računa se kao  \n",
        "\n",
        "$$\\tilde r_{xy}[n] = \\sum_{m=0}^{N-1} x\\bigl[\\langle n+m\\rangle_N\\bigr]y^*[m],$$\n",
        "\n",
        "a od $y[n]$ prema signalu $x[n]$ računa se kao\n",
        "\n",
        "$$\\tilde r_{yx}[n] = \\sum_{m=0}^{N-1} y\\bigl[\\langle n+m\\rangle_N\\bigr]x^*[m].$$\n",
        "\n",
        "Ako su signali realni onda vrijedi\n",
        "\n",
        "$$\\tilde r_{yx}[n] = \\sum_{m=0}^{N-1} y\\bigl[\\langle n+m\\rangle_N\\bigr]x[m]=\\sum_{m=0}^{N-1} y[m]x\\bigl[\\langle m-n\\rangle_N\\bigr]=\\tilde r_{xy}\\bigl[\\langle -n\\rangle_N\\bigr].$$\n",
        "\n",
        "Slično kao i kod cirkularne konvolucije cirkularnu ili kružnu korelaciju označavamo zaokruženom zvjezdom, no istu nije moguće napisati u standardnoj Jupyterskoj bilježnici.\n",
        "\n",
        "Za cirkularnu korelaciju možemo izreći teorem o korelaciji za diskretnu Fourierovu transformaciju (DFT) koji govori da vrijedi\n",
        "\n",
        "$$\\text{DFT}_N\\bigl[\\tilde r_{xy}[n]\\bigr]=\\text{DFT}_N\\Bigl[\\;\\sum_{m=0}^{N-1} x\\bigl[\\langle n+m\\rangle_N\\bigr]y^*[m]\\,\\Bigr]=X[k]Y^*[k]$$\n",
        "\n",
        "i da vrijedi\n",
        "\n",
        "$$\\text{DFT}_N\\bigl[\\tilde r_{yx}[n]]=\\text{DFT}_N\\Bigl[\\;\\sum_{m=0}^{N-1} y\\bigl[\\langle n+m\\rangle_N\\bigr]x^*[m]\\,\\Bigr]=Y[k]X^*[k].$$\n",
        "\n",
        "Veza između linearne i cirkularne korelacija se može izvesti slično kao što je izvedena veza linarne i cirkularne konvolucije. Analiza složenosti je pak identična.\n",
        "\n",
        "Prema tome FFT možemo koristiti za efikasno računanje korelacije između dva niza konačnog trajanja s glavnom razlikom da dometak nula (engl. *zero padding*) nije isti kao kod konvolucije gdje se nule uvijek domeću na desni dio. Kod računanja korelacija u jedan niz domećemo nule na lijevu stranu, a u drugi niz na desnu stranu. Konjugiramo spektar onog niza kojem smo nule dometnuli na desno."
      ]
    },
    {
      "cell_type": "markdown",
      "metadata": {
        "id": "AyuyPFAXVgFf"
      },
      "source": [
        "Pokažimo sada na primjeru kako računamo korelacije $r_{xy}[n]=x[n]\\star y[n]$ i $r_{yx}[n]=y[n]\\star x[n]$ između signala $x[n] =\\{\\underline{1},2,3,4\\}$ i $y[n]=\\{\\underline{0,1,1,0}\\}$ izravno prema definiciji korištenjem funkcije [`scipy.signal.correlate`](https://docs.scipy.org/doc/scipy/reference/generated/scipy.signal.correlate.html) te efikasnije korištenjem funkcije `scipy.fft.fft`:"
      ]
    },
    {
      "cell_type": "code",
      "execution_count": 16,
      "metadata": {
        "colab": {
          "base_uri": "https://localhost:8080/"
        },
        "id": "vM3EHlp2VcJI",
        "outputId": "b167a6b4-b2e7-482e-df7c-9448c8d425a5"
      },
      "outputs": [
        {
          "name": "stdout",
          "output_type": "stream",
          "text": [
            "[0. 1. 3. 5. 7. 4. 0.]\n",
            "[0. 4. 7. 5. 3. 1. 0.]\n",
            "[-4.44089210e-16+0.j  1.00000000e+00+0.j  3.00000000e+00+0.j\n",
            "  5.00000000e+00+0.j  7.00000000e+00+0.j  4.00000000e+00+0.j\n",
            "  3.80647894e-16+0.j]\n",
            "[2.37904934e-16+0.j 4.00000000e+00+0.j 7.00000000e+00+0.j\n",
            " 5.00000000e+00+0.j 3.00000000e+00+0.j 1.00000000e+00+0.j\n",
            " 2.53765263e-16+0.j]\n",
            "True\n",
            "True\n"
          ]
        }
      ],
      "source": [
        "# Definiranje signala\n",
        "x = array([1.0, 2.0, 3.0, 4.0]);\n",
        "y = array([0.0, 1.0, 1.0, 0.0]);\n",
        "\n",
        "# Izračunaj korelacije i ispiši ih\n",
        "# Uočite da su r_xy i r_yx zrcaljeni oko centralnog uzorka\n",
        "r1_xy = correlate(x,y);\n",
        "r1_yx = correlate(y,x);\n",
        "print(r1_xy);\n",
        "print(r1_yx);\n",
        "\n",
        "# Postavi minimalnu duljinu DFT-a\n",
        "N = len(x) + len(y) - 1;\n",
        "\n",
        "# Izračunaj transformacije signala s dometnutim nulama i pomnoži ih\n",
        "# Uvijek konjugiramo spektar kojem su nule dometnute nadesno\n",
        "X = fft( concatenate(( zeros(N-len(x)), x )) )\n",
        "Y = fft( concatenate(( y, zeros(N-len(y)) )) )\n",
        "R_XY = X * conjugate(Y);\n",
        "\n",
        "X = fft( concatenate(( x, zeros(N-len(x)) )) )\n",
        "Y = fft( concatenate(( zeros(N-len(y)), y )) )\n",
        "R_YX = conjugate(X) * Y;\n",
        "\n",
        "# Izračunaj inverzne transformacije\n",
        "r2_xy = ifft( R_XY );\n",
        "r2_yx = ifft( R_YX );\n",
        "print(r2_xy)\n",
        "print(r2_yx)\n",
        "\n",
        "# Usporedi vrijednosti, rezultat mora biti \"True\"\n",
        "print(allclose(r1_xy, r2_xy))\n",
        "print(allclose(r1_yx, r2_yx))"
      ]
    },
    {
      "cell_type": "markdown",
      "metadata": {
        "id": "AE1Ae7nQbPnk"
      },
      "source": [
        "## 3.B Usporedba izravnog računanja korelacije i računanja pomoću FFT-a\n",
        "\n",
        "Funkcija [`scipy.signal.correlate`](https://docs.scipy.org/doc/scipy/reference/generated/scipy.signal.correlate.html) podržava dodatni argument `method` koji se može postaviti na `direct` ili na `fft` ovisno o tome koji način računanja korelacije želimo koristiti. Znamo da korištenje FFT ima značajan dodatni trošak pa očekujemo da je izravno računanje bolje za male $N$-ove i da je računanje korištenjem FFT-a bolje za velike $N$-ove.\n",
        "\n",
        "Cilj nam je pronaći konkretnu vrijednost $N$ na kojoj se vremena izvršavanja sijeku za konkretni hardver na kojem pokrećete ovu Jupytersku bilježnicu.\n",
        "\n",
        "Napišite programski kod koji koristeći modul `timeit` mjeri vrijeme izvođenja računanja korelacije između dva slučajna niza istih duljina $N$ (slobodno dodajte koliko god programskih blokova vam treba):"
      ]
    },
    {
      "cell_type": "code",
      "execution_count": 17,
      "metadata": {
        "id": "DmPaip2ubwSR"
      },
      "outputs": [],
      "source": [
        "def corr_code(method): return f'''\n",
        "z = scipy.signal.correlate(x, y, method=\\\"{method}\\\")\n",
        "'''\n"
      ]
    },
    {
      "cell_type": "markdown",
      "metadata": {
        "id": "XWJwIozibwnZ"
      },
      "source": [
        "Vaš zadatak je sada pronaći za koju vrijednost $N$ računanje korelacije pomoću FFT postaje brže od izravnog računanja.\n",
        "\n",
        "Uputa: Nakon što ste pripremili kod za mjerenje vremena izvođenja jedne korelacije za fiksni $N$ napišite programsku petlju koja mijenja $N$ počevši od npr. $N=10$ do $N=4000$ s korakom $100$, te koja u svakoj iteraciji mjeri i sprema vrijeme računanja konvolucije na oba načina. Zatim iskoristite ta izmjerena vremena kako bi točnije odredili parametre petlje, a zatim odredite približno nakon kojeg $N$-a korištenje FFT-a postaje efikasnije od izravnog računanja.\n",
        "\n",
        "Slobodno dodajte koliko god programskih blokova vam treba."
      ]
    },
    {
      "cell_type": "code",
      "execution_count": 18,
      "metadata": {
        "id": "F5C4oMPlbwyY"
      },
      "outputs": [
        {
          "name": "stdout",
          "output_type": "stream",
          "text": [
            "N=10, method=direct : time = 0.16921544399883715\n",
            "N=20, method=direct : time = 0.22917884400158073\n",
            "N=30, method=direct : time = 0.3892149170023913\n",
            "N=40, method=direct : time = 0.5772154330006742\n",
            "N=50, method=direct : time = 1.045699438000156\n",
            "N=60, method=direct : time = 1.7021299909974914\n",
            "N=70, method=direct : time = 2.388039014000242\n",
            "N=80, method=direct : time = 2.221548230998451\n",
            "N=90, method=direct : time = 2.66600450900296\n",
            "N=10, method=fft : time = 1.0091148709980189\n",
            "N=20, method=fft : time = 1.146074378000776\n",
            "N=30, method=fft : time = 1.0741149569985282\n",
            "N=40, method=fft : time = 0.8724759420001647\n",
            "N=50, method=fft : time = 1.01430013999925\n",
            "N=60, method=fft : time = 1.0759410089995072\n",
            "N=70, method=fft : time = 1.0442288129997905\n",
            "N=80, method=fft : time = 0.9196650279991445\n",
            "N=90, method=fft : time = 0.9456074490008177\n"
          ]
        }
      ],
      "source": [
        "times_corr_direct = timeit_range((10, 100, 10), corr_code, \"direct\", 10000)\n",
        "times_corr_fft = timeit_range((10, 100, 10), corr_code, \"fft\", 10000)\n"
      ]
    },
    {
      "cell_type": "code",
      "execution_count": 19,
      "metadata": {},
      "outputs": [
        {
          "data": {
            "image/png": "[encoded data removed]",
            "text/plain": [
              "<Figure size 432x288 with 1 Axes>"
            ]
          },
          "metadata": {
            "needs_background": "light"
          },
          "output_type": "display_data"
        }
      ],
      "source": [
        "plt.plot(N_values, times_corr_direct, label=\"Times using the direct method\")\n",
        "plt.plot(N_values, times_corr_fft, label=\"Times using fft\")\n",
        "plt.legend()\n",
        "plt.show()\n"
      ]
    },
    {
      "attachments": {},
      "cell_type": "markdown",
      "metadata": {
        "id": "QSPDvarQbxdH"
      },
      "source": [
        "Dobivena vremena izvođenja ovise o računalu na kojem rješavate ovu vježbu. Naredba *Restart and run all* u Colabu briše sve izlaze pa zato dobivene rezultate prekopirajte u vaš odgovor.\n",
        "\n",
        "Broj točaka $N$ nakon kojeg FFT postaje efikasniji u odnosu na izravno računanje korelacije jest:\n",
        "\n",
        "**50**\n",
        "\n",
        "Neobavezni dodatni zadatak: ponovite cijeli postupak mjerenja vremena izvođenja uz korištenje FFTW-a umjesto standardnog Pythonovg FFT-a. Uputa: pogledajte dokumentaciju za `pyfftw.interfaces.scipy_fft`."
      ]
    }
  ],
  "metadata": {
    "colab": {
      "collapsed_sections": [],
      "provenance": []
    },
    "kernelspec": {
      "display_name": "Python 3",
      "language": "python",
      "name": "python3"
    },
    "language_info": {
      "codemirror_mode": {
        "name": "ipython",
        "version": 3
      },
      "file_extension": ".py",
      "mimetype": "text/x-python",
      "name": "python",
      "nbconvert_exporter": "python",
      "pygments_lexer": "ipython3",
      "version": "3.8.5"
    },
    "vscode": {
      "interpreter": {
        "hash": "4a3ce695ba1c1ae4c67df56e049a93d38593d1f2a6c58814e85d237c3008788b"
      }
    }
  },
  "nbformat": 4,
  "nbformat_minor": 0
}
